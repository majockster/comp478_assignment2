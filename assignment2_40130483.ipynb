{
 "cells": [
  {
   "cell_type": "code",
   "execution_count": 40,
   "id": "d9bad7f1",
   "metadata": {},
   "outputs": [
    {
     "name": "stdout",
     "output_type": "stream",
     "text": [
      "[[135 136 137 ... 244 244 243]\n",
      " [136 137 138 ... 244 244 243]\n",
      " [137 137 138 ... 244 244 244]\n",
      " ...\n",
      " [ 29  29  29 ...  39  39  39]\n",
      " [ 29  29  29 ...  38  37  37]\n",
      " [ 29  29  29 ...  36  35  35]]\n"
     ]
    }
   ],
   "source": [
    "import cv2\n",
    "import numpy as np\n",
    "\n",
    "current_image = cv2.imread('Doc.tiff',0)\n",
    "print(current_image)"
   ]
  },
  {
   "cell_type": "code",
   "execution_count": 41,
   "id": "41149b8c",
   "metadata": {},
   "outputs": [],
   "source": [
    "new_img = cv2.blur(current_image, (7,7))"
   ]
  },
  {
   "cell_type": "code",
   "execution_count": 42,
   "id": "1c6f2e60",
   "metadata": {
    "scrolled": true
   },
   "outputs": [
    {
     "name": "stdout",
     "output_type": "stream",
     "text": [
      "done showing image\n",
      "[[138 138 138 ... 244 244 244]\n",
      " [138 138 138 ... 244 244 244]\n",
      " [138 138 138 ... 244 244 244]\n",
      " ...\n",
      " [ 29  29  29 ...  38  38  38]\n",
      " [ 29  29  29 ...  38  38  38]\n",
      " [ 29  29  29 ...  38  38  38]]\n"
     ]
    }
   ],
   "source": [
    "cv2.imshow('image using avg filter',new_img)\n",
    "cv2.waitKey(0);\n",
    "cv2.destroyAllWindows();\n",
    "print('done showing image')\n",
    "print(new_img)"
   ]
  },
  {
   "cell_type": "code",
   "execution_count": 54,
   "id": "155998f7",
   "metadata": {},
   "outputs": [
    {
     "name": "stdout",
     "output_type": "stream",
     "text": [
      "threshold calculation done\n",
      "threshold image done\n"
     ]
    }
   ],
   "source": [
    "def get_threshold_value_on_pixel(c, weighted_avg):\n",
    "    return weighted_avg - c\n",
    "\n",
    "# thresh_img = new_img\n",
    "for col in range(len(new_img)):\n",
    "    for row in range(len(new_img[col])):\n",
    "        thresh_arr = get_threshold_value_on_pixel(2, new_img[col][row])\n",
    "        new_img[col][row] = 0\n",
    "        if current_image[col][row] > thresh_arr:\n",
    "            new_img[col][row] = 1\n",
    "print('threshold calculation done')\n",
    "cv2.imshow('image using threshold',new_img)\n",
    "cv2.waitKey(0);\n",
    "cv2.destroyAllWindows();\n",
    "print('threshold image done')"
   ]
  },
  {
   "cell_type": "code",
   "execution_count": 50,
   "id": "7995514e",
   "metadata": {},
   "outputs": [
    {
     "name": "stdout",
     "output_type": "stream",
     "text": [
      "[[1 1 1 ... 1 1 1]\n",
      " [1 1 1 ... 1 1 1]\n",
      " [1 1 1 ... 1 1 1]\n",
      " ...\n",
      " [1 1 1 ... 1 1 1]\n",
      " [1 1 1 ... 1 1 1]\n",
      " [1 1 1 ... 1 1 1]]\n"
     ]
    }
   ],
   "source": [
    "print(new_img)"
   ]
  },
  {
   "cell_type": "code",
   "execution_count": 53,
   "id": "bbc189db",
   "metadata": {},
   "outputs": [],
   "source": [
    "#Untested code do not touch until code above finishes running\n",
    "img_2 = cv2.blur(current_image, (5,5))\n",
    "img_from_builtin_adapt = cv2.adaptiveThreshold(img_2, 255, cv2.ADAPTIVE_THRESH_MEAN_C, cv2.THRESH_BINARY, 7, 2)\n",
    "cv2.imshow('image using threshold 2',img_from_builtin_adapt)\n",
    "cv2.waitKey(0);\n",
    "cv2.destroyAllWindows()"
   ]
  },
  {
   "cell_type": "code",
   "execution_count": null,
   "id": "7d6a061e",
   "metadata": {},
   "outputs": [],
   "source": []
  }
 ],
 "metadata": {
  "kernelspec": {
   "display_name": "Python 3 (ipykernel)",
   "language": "python",
   "name": "python3"
  },
  "language_info": {
   "codemirror_mode": {
    "name": "ipython",
    "version": 3
   },
   "file_extension": ".py",
   "mimetype": "text/x-python",
   "name": "python",
   "nbconvert_exporter": "python",
   "pygments_lexer": "ipython3",
   "version": "3.9.5"
  }
 },
 "nbformat": 4,
 "nbformat_minor": 5
}
